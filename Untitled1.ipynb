{
 "cells": [
  {
   "cell_type": "code",
   "execution_count": 1,
   "metadata": {},
   "outputs": [
    {
     "name": "stdout",
     "output_type": "stream",
     "text": [
      "Collecting csvmatch\n",
      "  Downloading https://files.pythonhosted.org/packages/bd/0b/f26d3e0a2083436783d89340e3b4124617c71ee2139545b506ca3c875335/csvmatch-1.19-py2.py3-none-any.whl\n",
      "Requirement already satisfied: chardet==3.0.4 in /Library/Frameworks/Python.framework/Versions/3.7/lib/python3.7/site-packages (from csvmatch) (3.0.4)\n",
      "Collecting jellyfish==0.7.2 (from csvmatch)\n",
      "\u001b[?25l  Downloading https://files.pythonhosted.org/packages/3f/80/bcacc7affb47be7279d7d35225e1a932416ed051b315a7f9df20acf04cbe/jellyfish-0.7.2.tar.gz (133kB)\n",
      "\u001b[K     |████████████████████████████████| 143kB 773kB/s eta 0:00:01\n",
      "\u001b[?25hCollecting unidecode==1.0.23 (from csvmatch)\n",
      "\u001b[?25l  Downloading https://files.pythonhosted.org/packages/31/39/53096f9217b057cb049fe872b7fc7ce799a1a89b76cf917d9639e7a558b5/Unidecode-1.0.23-py2.py3-none-any.whl (237kB)\n",
      "\u001b[K     |████████████████████████████████| 245kB 2.3MB/s eta 0:00:01\n",
      "\u001b[?25hCollecting doublemetaphone==0.1 (from csvmatch)\n",
      "  Downloading https://files.pythonhosted.org/packages/55/6f/54aa6a6871092e1f93e8fb014474bf94f3657e3fda1544628ac3ab92d5ef/DoubleMetaphone-0.1-cp37-cp37m-macosx_10_13_x86_64.whl\n",
      "Collecting tqdm==4.18.0 (from csvmatch)\n",
      "\u001b[?25l  Downloading https://files.pythonhosted.org/packages/cd/cb/a12e63ce28a0db97580fc5d18085281cd3d5393acc6d18e0aa9c3dcdd0ee/tqdm-4.18.0-py2.py3-none-any.whl (48kB)\n",
      "\u001b[K     |████████████████████████████████| 51kB 4.2MB/s eta 0:00:011\n",
      "\u001b[?25hCollecting colorama==0.4.1 (from csvmatch)\n",
      "  Downloading https://files.pythonhosted.org/packages/4f/a6/728666f39bfff1719fc94c481890b2106837da9318031f71a8424b662e12/colorama-0.4.1-py2.py3-none-any.whl\n",
      "Collecting dedupe==1.9.7 (from csvmatch)\n",
      "\u001b[?25l  Downloading https://files.pythonhosted.org/packages/e2/31/8851510f6fbba673f5a8399bb66a5118e4f2f9618c4bc06c3393b0107539/dedupe-1.9.7-cp37-cp37m-macosx_10_6_intel.whl (64kB)\n",
      "\u001b[K     |████████████████████████████████| 71kB 7.0MB/s eta 0:00:011\n",
      "\u001b[?25hCollecting fastcluster<1.1.25 (from dedupe==1.9.7->csvmatch)\n",
      "\u001b[?25l  Downloading https://files.pythonhosted.org/packages/1e/00/9910dd324f32582051d0ee6922c3cd4727234aae96366f3867c46a70cd78/fastcluster-1.1.24.tar.gz (166kB)\n",
      "\u001b[K     |████████████████████████████████| 174kB 6.7MB/s eta 0:00:01\n",
      "\u001b[?25hCollecting affinegap>=1.3 (from dedupe==1.9.7->csvmatch)\n",
      "  Downloading https://files.pythonhosted.org/packages/8b/6e/bfdb501b6d8086f3fe29c0713e64016bc746d37ed5e60d45e540d92e8198/affinegap-1.10-cp37-cp37m-macosx_10_13_x86_64.whl\n",
      "Collecting future>=0.14 (from dedupe==1.9.7->csvmatch)\n",
      "  Using cached https://files.pythonhosted.org/packages/90/52/e20466b85000a181e1e144fd8305caf2cf475e2f9674e797b222f8105f5f/future-0.17.1.tar.gz\n",
      "Collecting zope.index (from dedupe==1.9.7->csvmatch)\n",
      "\u001b[?25l  Downloading https://files.pythonhosted.org/packages/57/7b/67e6366e37e4370b55ae6112251a1bddb970d453a2f18d779dc24cae7214/zope.index-4.4.0-cp37-cp37m-macosx_10_13_x86_64.whl (90kB)\n",
      "\u001b[K     |████████████████████████████████| 92kB 1.7MB/s eta 0:00:01\n",
      "\u001b[?25hRequirement already satisfied: numpy>=1.13 in /Library/Frameworks/Python.framework/Versions/3.7/lib/python3.7/site-packages (from dedupe==1.9.7->csvmatch) (1.15.4)\n",
      "Collecting categorical-distance>=1.9 (from dedupe==1.9.7->csvmatch)\n",
      "  Downloading https://files.pythonhosted.org/packages/1d/b7/4f97771f52c63916f4e4d349a644c2387961592e76070e7310463b2d70a5/categorical_distance-1.9-py3-none-any.whl\n",
      "Collecting simplecosine>=1.2 (from dedupe==1.9.7->csvmatch)\n",
      "  Downloading https://files.pythonhosted.org/packages/2d/22/6ea3a5ab8aea06d6563eb927e706f7342a00d1849c9be6143a2a7d84ddbd/simplecosine-1.2-py2.py3-none-any.whl\n",
      "Collecting simplejson (from dedupe==1.9.7->csvmatch)\n",
      "\u001b[?25l  Downloading https://files.pythonhosted.org/packages/e3/24/c35fb1c1c315fc0fffe61ea00d3f88e85469004713dab488dee4f35b0aff/simplejson-3.16.0.tar.gz (81kB)\n",
      "\u001b[K     |████████████████████████████████| 81kB 4.7MB/s eta 0:00:011\n",
      "\u001b[?25hCollecting BTrees>=4.1.4 (from dedupe==1.9.7->csvmatch)\n",
      "\u001b[?25l  Downloading https://files.pythonhosted.org/packages/9d/fe/b753e4111b05fff339fbd6cdfbf127f77470f6b00125930f65b4b0a81885/BTrees-4.6.0-cp37-cp37m-macosx_10_6_intel.whl (826kB)\n",
      "\u001b[K     |████████████████████████████████| 829kB 5.3MB/s eta 0:00:01\n",
      "\u001b[?25hCollecting highered>=0.2.0 (from dedupe==1.9.7->csvmatch)\n",
      "  Downloading https://files.pythonhosted.org/packages/81/00/cbd902cfd14ad1992fcdaa11a615d47b36b6136dc690e19b0afa58c7365d/highered-0.2.1-py2.py3-none-any.whl\n",
      "Collecting dedupe-variable-datetime (from dedupe==1.9.7->csvmatch)\n",
      "  Downloading https://files.pythonhosted.org/packages/65/8f/d21f6acadcdfd681ee038153883b5673b8b76f790e465d791780e6b7bf60/dedupe_variable_datetime-0.1.5-py3-none-any.whl\n",
      "Collecting haversine>=0.4.1 (from dedupe==1.9.7->csvmatch)\n",
      "  Downloading https://files.pythonhosted.org/packages/d7/26/78d4fadc73b7e4c3543f9d5401892cb9a3f4202be789984826033922ec5a/haversine-2.1.2-py2.py3-none-any.whl\n",
      "Collecting Levenshtein-search (from dedupe==1.9.7->csvmatch)\n",
      "  Downloading https://files.pythonhosted.org/packages/87/f7/b226f9f9555fea344f34840579b65ccfdb09c45654332256b0d5ad81b680/Levenshtein_search-1.4.4-cp37-cp37m-macosx_10_13_x86_64.whl\n",
      "Collecting dedupe-hcluster (from dedupe==1.9.7->csvmatch)\n",
      "\u001b[?25l  Downloading https://files.pythonhosted.org/packages/65/b6/7ea2d85734fa901e6df51a9426725db98ba985d5ce918682a2e6079a0071/dedupe_hcluster-0.3.6-cp37-cp37m-macosx_10_13_x86_64.whl (165kB)\n",
      "\u001b[K     |████████████████████████████████| 174kB 5.4MB/s eta 0:00:01\n",
      "\u001b[?25hCollecting rlr>=2.4.3 (from dedupe==1.9.7->csvmatch)\n",
      "  Downloading https://files.pythonhosted.org/packages/fa/02/3b1a9727a622ff4320919645ce35ceb887d90784d0bab41484756c33b7ea/rlr-2.4.5-py2.py3-none-any.whl\n",
      "Requirement already satisfied: setuptools in /Library/Frameworks/Python.framework/Versions/3.7/lib/python3.7/site-packages (from zope.index->dedupe==1.9.7->csvmatch) (41.2.0)\n",
      "Collecting zope.interface (from zope.index->dedupe==1.9.7->csvmatch)\n",
      "\u001b[?25l  Downloading https://files.pythonhosted.org/packages/d9/3a/101934e0f2026f0a58698978bfedec6e2021b28b846d9e1d9b54369e044d/zope.interface-4.6.0-cp37-cp37m-macosx_10_14_x86_64.whl (131kB)\n",
      "\u001b[K     |████████████████████████████████| 133kB 2.8MB/s eta 0:00:01\n",
      "\u001b[?25hCollecting persistent (from zope.index->dedupe==1.9.7->csvmatch)\n",
      "\u001b[?25l  Downloading https://files.pythonhosted.org/packages/38/35/073411a6f98f4aba8f6ad850d75a9435f1af3a049c7daf88584a85784265/persistent-4.5.0-cp37-cp37m-macosx_10_14_x86_64.whl (133kB)\n",
      "\u001b[K     |████████████████████████████████| 143kB 4.3MB/s eta 0:00:01\n",
      "\u001b[?25hRequirement already satisfied: six in /Library/Frameworks/Python.framework/Versions/3.7/lib/python3.7/site-packages (from zope.index->dedupe==1.9.7->csvmatch) (1.11.0)\n",
      "Collecting pyhacrf-datamade>=0.2.0 (from highered>=0.2.0->dedupe==1.9.7->csvmatch)\n",
      "\u001b[?25l  Downloading https://files.pythonhosted.org/packages/f9/80/21e48bff6e7aac981c64d26deca55de963b4662f00b58d9f1a5fc21e83ca/pyhacrf_datamade-0.2.3-cp37-cp37m-macosx_10_13_x86_64.whl (195kB)\n",
      "\u001b[K     |████████████████████████████████| 204kB 5.8MB/s eta 0:00:01\n",
      "\u001b[?25hCollecting datetime-distance (from dedupe-variable-datetime->dedupe==1.9.7->csvmatch)\n",
      "  Downloading https://files.pythonhosted.org/packages/6b/98/a5eff9256ff27e3bb8030466dabd772002e5014b9237cbeb18c542050ff5/datetime_distance-0.1.3-py3-none-any.whl\n",
      "Collecting pylbfgs (from rlr>=2.4.3->dedupe==1.9.7->csvmatch)\n",
      "\u001b[?25l  Downloading https://files.pythonhosted.org/packages/59/09/2a7ffe7128df54754d8d8c4e8b86612c5b538bf219d876a7dac7261eaf37/PyLBFGS-0.2.0.12-cp37-cp37m-macosx_10_13_x86_64.whl (57kB)\n",
      "\u001b[K     |████████████████████████████████| 61kB 3.0MB/s eta 0:00:011\n",
      "\u001b[?25hCollecting cffi; platform_python_implementation == \"CPython\" (from persistent->zope.index->dedupe==1.9.7->csvmatch)\n",
      "\u001b[?25l  Downloading https://files.pythonhosted.org/packages/f0/48/5aa4ea664eba26dd5142558d04762f5065c02220b4665b3f7eecb9bb614e/cffi-1.12.3-cp37-cp37m-macosx_10_9_x86_64.whl (169kB)\n",
      "\u001b[K     |████████████████████████████████| 174kB 3.6MB/s eta 0:00:01\n",
      "\u001b[?25hRequirement already satisfied: python-dateutil>=2.6.0 in /Library/Frameworks/Python.framework/Versions/3.7/lib/python3.7/site-packages (from datetime-distance->dedupe-variable-datetime->dedupe==1.9.7->csvmatch) (2.7.5)\n",
      "Collecting pycparser (from cffi; platform_python_implementation == \"CPython\"->persistent->zope.index->dedupe==1.9.7->csvmatch)\n"
     ]
    },
    {
     "name": "stdout",
     "output_type": "stream",
     "text": [
      "\u001b[?25l  Downloading https://files.pythonhosted.org/packages/68/9e/49196946aee219aead1290e00d1e7fdeab8567783e83e1b9ab5585e6206a/pycparser-2.19.tar.gz (158kB)\n",
      "\u001b[K     |████████████████████████████████| 163kB 4.7MB/s eta 0:00:01\n",
      "\u001b[?25hBuilding wheels for collected packages: jellyfish, fastcluster, future, simplejson, pycparser\n",
      "  Building wheel for jellyfish (setup.py) ... \u001b[?25ldone\n",
      "\u001b[?25h  Stored in directory: /Users/amit/Library/Caches/pip/wheels/e8/fe/99/d8fa8f2ef7b82a625b0b77a84d319b0b50693659823c4effb4\n",
      "  Building wheel for fastcluster (setup.py) ... \u001b[?25ldone\n",
      "\u001b[?25h  Stored in directory: /Users/amit/Library/Caches/pip/wheels/73/be/6b/78debfba33744e636677f6ccd2d811e7678385e13335531ada\n",
      "  Building wheel for future (setup.py) ... \u001b[?25ldone\n",
      "\u001b[?25h  Stored in directory: /Users/amit/Library/Caches/pip/wheels/0c/61/d2/d6b7317325828fbb39ee6ad559dbe4664d0896da4721bf379e\n",
      "  Building wheel for simplejson (setup.py) ... \u001b[?25ldone\n",
      "\u001b[?25h  Stored in directory: /Users/amit/Library/Caches/pip/wheels/5d/1a/1e/0350bb3df3e74215cd91325344cc86c2c691f5306eb4d22c77\n",
      "  Building wheel for pycparser (setup.py) ... \u001b[?25ldone\n",
      "\u001b[?25h  Stored in directory: /Users/amit/Library/Caches/pip/wheels/f2/9a/90/de94f8556265ddc9d9c8b271b0f63e57b26fb1d67a45564511\n",
      "Successfully built jellyfish fastcluster future simplejson pycparser\n",
      "\u001b[31mERROR: geoparse 1.2.0 has requirement tqdm>=4.31.1, but you'll have tqdm 4.18.0 which is incompatible.\u001b[0m\n",
      "Installing collected packages: jellyfish, unidecode, doublemetaphone, tqdm, colorama, fastcluster, affinegap, future, zope.interface, pycparser, cffi, persistent, BTrees, zope.index, categorical-distance, simplecosine, simplejson, pylbfgs, pyhacrf-datamade, highered, datetime-distance, dedupe-variable-datetime, haversine, Levenshtein-search, dedupe-hcluster, rlr, dedupe, csvmatch\n",
      "  Found existing installation: tqdm 4.34.0\n",
      "    Uninstalling tqdm-4.34.0:\n",
      "      Successfully uninstalled tqdm-4.34.0\n",
      "Successfully installed BTrees-4.6.0 Levenshtein-search-1.4.4 affinegap-1.10 categorical-distance-1.9 cffi-1.12.3 colorama-0.4.1 csvmatch-1.19 datetime-distance-0.1.3 dedupe-1.9.7 dedupe-hcluster-0.3.6 dedupe-variable-datetime-0.1.5 doublemetaphone-0.1 fastcluster-1.1.24 future-0.17.1 haversine-2.1.2 highered-0.2.1 jellyfish-0.7.2 persistent-4.5.0 pycparser-2.19 pyhacrf-datamade-0.2.3 pylbfgs-0.2.0.12 rlr-2.4.5 simplecosine-1.2 simplejson-3.16.0 tqdm-4.18.0 unidecode-1.0.23 zope.index-4.4.0 zope.interface-4.6.0\n",
      "\u001b[33mWARNING: You are using pip version 19.1.1, however version 19.2.3 is available.\n",
      "You should consider upgrading via the 'pip install --upgrade pip' command.\u001b[0m\n"
     ]
    }
   ],
   "source": [
    "!pip install csvmatch"
   ]
  },
  {
   "cell_type": "code",
   "execution_count": 3,
   "metadata": {},
   "outputs": [
    {
     "ename": "SyntaxError",
     "evalue": "invalid syntax (<ipython-input-3-542200a06fbd>, line 1)",
     "output_type": "error",
     "traceback": [
      "\u001b[0;36m  File \u001b[0;32m\"<ipython-input-3-542200a06fbd>\"\u001b[0;36m, line \u001b[0;32m1\u001b[0m\n\u001b[0;31m    csvmatch 'GSE6631-Upregulated.csv' 'GSE12452-Upregulated50.csv'\u001b[0m\n\u001b[0m                                     ^\u001b[0m\n\u001b[0;31mSyntaxError\u001b[0m\u001b[0;31m:\u001b[0m invalid syntax\n"
     ]
    }
   ],
   "source": [
    "csvmatch 'GSE6631-Upregulated.csv' 'GSE12452-Upregulated50.csv'"
   ]
  },
  {
   "cell_type": "code",
   "execution_count": null,
   "metadata": {},
   "outputs": [],
   "source": []
  },
  {
   "cell_type": "code",
   "execution_count": null,
   "metadata": {},
   "outputs": [],
   "source": []
  }
 ],
 "metadata": {
  "kernelspec": {
   "display_name": "Python 3",
   "language": "python",
   "name": "python3"
  },
  "language_info": {
   "codemirror_mode": {
    "name": "ipython",
    "version": 3
   },
   "file_extension": ".py",
   "mimetype": "text/x-python",
   "name": "python",
   "nbconvert_exporter": "python",
   "pygments_lexer": "ipython3",
   "version": "3.7.0"
  }
 },
 "nbformat": 4,
 "nbformat_minor": 2
}
