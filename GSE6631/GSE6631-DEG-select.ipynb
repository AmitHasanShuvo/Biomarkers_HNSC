{
 "cells": [
  {
   "cell_type": "code",
   "execution_count": 4,
   "metadata": {},
   "outputs": [
    {
     "name": "stdout",
     "output_type": "stream",
     "text": [
      "321\n",
      "11\n"
     ]
    }
   ],
   "source": [
    "import pandas\n",
    "\n",
    "df = pandas.read_csv('processed50.csv')\n",
    "\n",
    "filename = 'GSE6631-Upregulated50.csv'\n",
    "upregulated = open(filename, 'w')\n",
    "\n",
    "filename = 'GSE6631-Downregulated50.csv'\n",
    "downregulated = open(filename, 'w')\n",
    "\n",
    "upregulated.write('Gene,Adj.P.Val,logFC\\n')\n",
    "downregulated.write('Gene,Adj.P.Val,logFC\\n')\n",
    "\n",
    "upDEGs = 0\n",
    "downDEGs = 0\n",
    "for i in range(0,len(df)):\n",
    "    if float(df['adj.P.Val'][i])< 0.01 and float(df['logFC'][i])>1.0:\n",
    "        upregulated.write(str(df['Gene'][i]))\n",
    "        upregulated.write(',')\n",
    "        upregulated.write(str(df['adj.P.Val'][i]))\n",
    "        upregulated.write(',')\n",
    "        #upregulated.write(str(df['P.adjusted.BH'][i]))\n",
    "        #upregulated.write(',')\n",
    "        upregulated.write(str(df['logFC'][i]))\n",
    "        upregulated.write('\\n')\n",
    "        #upregulated.write(str(df['Gene.symbol'][i]))\n",
    "        #upregulated.write('\\n')\n",
    "        upDEGs = upDEGs+1\n",
    "    elif float(df['adj.P.Val'][i])< 0.01 and float(df['logFC'][i])<-1.0:\n",
    "        downregulated.write(str(df['Gene'][i]))\n",
    "        downregulated.write(',')\n",
    "        downregulated.write(str(df['adj.P.Val'][i]))\n",
    "        downregulated.write(',')\n",
    "        ##downregulated.write(',')\n",
    "        downregulated.write(str(df['logFC'][i]))\n",
    "        downregulated.write('\\n')\n",
    "        #downregulated.write(str(df['Gene.symbol'][i]))\n",
    "        #downregulated.write('\\n')\n",
    "        downDEGs = downDEGs+1\n",
    "\n",
    "print(upDEGs)\n",
    "print(downDEGs)\n",
    "\n",
    "upregulated.close()\n",
    "downregulated.close()"
   ]
  },
  {
   "cell_type": "code",
   "execution_count": null,
   "metadata": {},
   "outputs": [],
   "source": []
  },
  {
   "cell_type": "code",
   "execution_count": null,
   "metadata": {},
   "outputs": [],
   "source": []
  },
  {
   "cell_type": "code",
   "execution_count": null,
   "metadata": {},
   "outputs": [],
   "source": []
  },
  {
   "cell_type": "code",
   "execution_count": null,
   "metadata": {},
   "outputs": [],
   "source": []
  },
  {
   "cell_type": "code",
   "execution_count": null,
   "metadata": {},
   "outputs": [],
   "source": []
  },
  {
   "cell_type": "code",
   "execution_count": null,
   "metadata": {},
   "outputs": [],
   "source": []
  },
  {
   "cell_type": "code",
   "execution_count": null,
   "metadata": {},
   "outputs": [],
   "source": []
  },
  {
   "cell_type": "code",
   "execution_count": null,
   "metadata": {},
   "outputs": [],
   "source": []
  },
  {
   "cell_type": "code",
   "execution_count": null,
   "metadata": {},
   "outputs": [],
   "source": []
  },
  {
   "cell_type": "code",
   "execution_count": null,
   "metadata": {},
   "outputs": [],
   "source": []
  }
 ],
 "metadata": {
  "kernelspec": {
   "display_name": "Python 3",
   "language": "python",
   "name": "python3"
  },
  "language_info": {
   "codemirror_mode": {
    "name": "ipython",
    "version": 3
   },
   "file_extension": ".py",
   "mimetype": "text/x-python",
   "name": "python",
   "nbconvert_exporter": "python",
   "pygments_lexer": "ipython3",
   "version": "3.7.0"
  }
 },
 "nbformat": 4,
 "nbformat_minor": 2
}
