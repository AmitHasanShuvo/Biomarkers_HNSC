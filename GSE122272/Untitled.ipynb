{
 "cells": [
  {
   "cell_type": "code",
   "execution_count": 7,
   "metadata": {},
   "outputs": [
    {
     "name": "stdout",
     "output_type": "stream",
     "text": [
      "1\n",
      "2\n"
     ]
    }
   ],
   "source": [
    "import pandas\n",
    "\n",
    "df = pandas.read_csv('GSE122272Prcessed.csv')\n",
    "\n",
    "filename = 'GSE122272-Upregulated.csv'\n",
    "upregulated = open(filename, 'w')\n",
    "\n",
    "filename = 'GSE122272-Downregulated.csv'\n",
    "downregulated = open(filename, 'w')\n",
    "\n",
    "upregulated.write('Gene,p.value,logFC,GeneSym\\n')\n",
    "downregulated.write('Gene,p.value,logFC,GeneSym\\n')\n",
    "\n",
    "upDEGs = 0\n",
    "downDEGs = 0\n",
    "for i in range(0,len(df)):\n",
    "    if float(df['P.Value'][i])< 0.05 and float(df['logFC'][i])>1.0:\n",
    "        upregulated.write(str(df['Gene'][i]))\n",
    "        upregulated.write(',')\n",
    "        upregulated.write(str(df['P.Value'][i]))\n",
    "        upregulated.write(',')\n",
    "        #upregulated.write(str(df['P.adjusted.BH'][i]))\n",
    "        #upregulated.write(',')\n",
    "        upregulated.write(str(df['logFC'][i]))\n",
    "        upregulated.write(',')\n",
    "        upregulated.write(str(df['Gene'][i]))\n",
    "        upregulated.write('\\n')\n",
    "        upDEGs = upDEGs+1\n",
    "    elif float(df['P.Value'][i])<0.05 and float(df['logFC'][i])<-1.0:\n",
    "        downregulated.write(str(df['Gene'][i]))\n",
    "        downregulated.write(',')\n",
    "        downregulated.write(str(df['P.Value'][i]))\n",
    "        downregulated.write(',')\n",
    "        ##downregulated.write(',')\n",
    "        downregulated.write(str(df['logFC'][i]))\n",
    "        downregulated.write(',')\n",
    "        downregulated.write(str(df['Gene'][i]))\n",
    "        downregulated.write('\\n')\n",
    "        downDEGs = downDEGs+1\n",
    "\n",
    "print(upDEGs)\n",
    "print(downDEGs)\n",
    "\n",
    "upregulated.close()\n",
    "downregulated.close()"
   ]
  },
  {
   "cell_type": "code",
   "execution_count": null,
   "metadata": {},
   "outputs": [],
   "source": []
  },
  {
   "cell_type": "code",
   "execution_count": null,
   "metadata": {},
   "outputs": [],
   "source": []
  },
  {
   "cell_type": "code",
   "execution_count": null,
   "metadata": {},
   "outputs": [],
   "source": []
  },
  {
   "cell_type": "code",
   "execution_count": null,
   "metadata": {},
   "outputs": [],
   "source": []
  },
  {
   "cell_type": "code",
   "execution_count": null,
   "metadata": {},
   "outputs": [],
   "source": []
  },
  {
   "cell_type": "code",
   "execution_count": null,
   "metadata": {},
   "outputs": [],
   "source": []
  },
  {
   "cell_type": "code",
   "execution_count": null,
   "metadata": {},
   "outputs": [],
   "source": []
  }
 ],
 "metadata": {
  "kernelspec": {
   "display_name": "Python 3",
   "language": "python",
   "name": "python3"
  },
  "language_info": {
   "codemirror_mode": {
    "name": "ipython",
    "version": 3
   },
   "file_extension": ".py",
   "mimetype": "text/x-python",
   "name": "python",
   "nbconvert_exporter": "python",
   "pygments_lexer": "ipython3",
   "version": "3.7.0"
  }
 },
 "nbformat": 4,
 "nbformat_minor": 2
}
